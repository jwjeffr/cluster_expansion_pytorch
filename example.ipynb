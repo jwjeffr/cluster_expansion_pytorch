{
 "cells": [
  {
   "cell_type": "markdown",
   "metadata": {
    "collapsed": true,
    "jupyter": {
     "outputs_hidden": true
    },
    "pycharm": {
     "name": "#%% md\n"
    }
   },
   "source": [
    "Here we create a mixed solution of an AgNiCu (all fcc) solution and perform a cluster expansion on it"
   ]
  },
  {
   "cell_type": "markdown",
   "metadata": {
    "jupyter": {
     "outputs_hidden": false
    },
    "pycharm": {
     "name": "#%% md\n"
    }
   },
   "source": [
    "Import necessary libraries"
   ]
  },
  {
   "cell_type": "code",
   "execution_count": 24,
   "metadata": {
    "jupyter": {
     "outputs_hidden": false
    },
    "pycharm": {
     "name": "#%%\n"
    }
   },
   "outputs": [],
   "source": [
    "import numpy as np\n",
    "from numpy.typing import ArrayLike\n",
    "import matplotlib.pyplot as plt\n",
    "from ase import Atoms\n",
    "from ase.calculators import emt\n",
    "from ase.constraints import UnitCellFilter\n",
    "from ase.optimize import BFGSLineSearch\n",
    "from cluster_expand import ClusterExpansion, FCCLattice"
   ]
  },
  {
   "cell_type": "markdown",
   "metadata": {
    "jupyter": {
     "outputs_hidden": false
    },
    "pycharm": {
     "name": "#%% md\n"
    }
   },
   "source": [
    "Create an FCC lattice from the included CubicLattice class"
   ]
  },
  {
   "cell_type": "code",
   "execution_count": 65,
   "metadata": {
    "jupyter": {
     "outputs_hidden": false
    },
    "pycharm": {
     "name": "#%%\n"
    }
   },
   "outputs": [],
   "source": [
    "fcc_lattice = FCCLattice(lattice_parameter=1.0, dimensions=[3, 3, 3])\n",
    "fcc_lattice.calculate_site_positions()"
   ]
  },
  {
   "cell_type": "markdown",
   "metadata": {
    "jupyter": {
     "outputs_hidden": false
    },
    "pycharm": {
     "name": "#%% md\n"
    }
   },
   "source": [
    "Get adjacency tensor of order 2 with 1% tolerance (will take awhile)"
   ]
  },
  {
   "cell_type": "code",
   "execution_count": 66,
   "metadata": {
    "jupyter": {
     "outputs_hidden": false
    },
    "pycharm": {
     "name": "#%%\n"
    }
   },
   "outputs": [],
   "source": [
    "adjacency_tensor = fcc_lattice.get_adjacency_tensor(tolerance=0.01)"
   ]
  },
  {
   "cell_type": "markdown",
   "metadata": {},
   "source": [
    "Assume we have 3 atomic types, initialize some equiatomic configurations"
   ]
  },
  {
   "cell_type": "code",
   "execution_count": 67,
   "metadata": {},
   "outputs": [],
   "source": [
    "num_samples = 100\n",
    "num_types = 3\n",
    "all_occupation_numbers = np.zeros((fcc_lattice.num_sites, num_types, num_samples))\n",
    "\n",
    "for sample in np.arange(num_samples, dtype=int):\n",
    "    occupation_numbers = np.zeros((fcc_lattice.num_sites, num_types))\n",
    "    for site in np.arange(fcc_lattice.num_sites, dtype=int):\n",
    "        type_ = np.random.choice(np.arange(num_types, dtype=int))\n",
    "        occupation_numbers[site, type_] = 1.0\n",
    "    all_occupation_numbers[:, :, sample] = occupation_numbers"
   ]
  },
  {
   "cell_type": "markdown",
   "metadata": {},
   "source": [
    "For each configuration, compute the energy using the ASE module"
   ]
  }
 ],
 "metadata": {
  "kernelspec": {
   "display_name": "Python 3 (ipykernel)",
   "language": "python",
   "name": "python3"
  },
  "language_info": {
   "codemirror_mode": {
    "name": "ipython",
    "version": 3
   },
   "file_extension": ".py",
   "mimetype": "text/x-python",
   "name": "python",
   "nbconvert_exporter": "python",
   "pygments_lexer": "ipython3",
   "version": "3.11.6"
  }
 },
 "nbformat": 4,
 "nbformat_minor": 4
}
